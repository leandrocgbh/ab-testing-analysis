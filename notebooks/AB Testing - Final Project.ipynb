{
 "cells": [
  {
   "cell_type": "markdown",
   "metadata": {},
   "source": [
    "# A/B Testing - Final Project\n",
    "\n",
    "### Leandro Corrêa Gonçalves"
   ]
  },
  {
   "cell_type": "markdown",
   "metadata": {},
   "source": [
    "## Metric Choice\n",
    "\n",
    "As mentioned in the problem statement, the hypothesis was that this feature might set clearer expectations for students upfront, thus reducing the number of frustrated students who left the free trial because they didn't have enough time—without significantly reducing the number of students to continue past the free trial and eventually complete the course. If this hypothesis held true, Udacity could improve the overall student experience and improve coaches' capacity to support students who are likely to complete the course.\n",
    "\n",
    "### So what are the best metrics to measure this effect?\n",
    "\n",
    "* **gross conversion:** Users enrolled in 14 free trial / Number of unique cookies that clicked on the Start Free button. It is expected to be lower in the experimental group as the new feature is trying to filter only users that really have time available to complete the whole course, thus fewer users would be willing to enroll in the free trial rather than go to the course materials\n",
    "\n",
    "* **net conversion:** Users that paid for the course (remained enrolled after 14-free-trial) / Number of unique cookies that clicked on the Start Free button. As the gross conversion is expected to be lower in the experimental group, this metric can also be affected for this new feature cause it is like a funnel that we have people enrolled in the free-trial (gross conversion) and from all these people there are fewer people that continue to the paid version.\n",
    "\n",
    "* **retention:**: This is a good metric to keep track and it should be higher in the experimental group if the hypothesis of users that have the suggested available time are more likely to complete the course is true.\n",
    "\n",
    "\n",
    "### What about the Invariant Metrics (that is, the ones that should not be significant different among the groups)\n",
    "\n",
    "* **Number of cookies (pageviews):** This is the experiment's `unity of diversion` so we have to be sure that they are evenly distributed between the groups.\n",
    "\n",
    "* **Number of clicks:**: It should not be changed with the new feature and can be used as invariant metric in our sanity check.\n",
    "\n",
    "* **click-through-probability:** This is the above metrics divided by each other and also should not be any different for both control and experimental group."
   ]
  },
  {
   "cell_type": "markdown",
   "metadata": {},
   "source": [
    "## Measuring Variability\n",
    "\n",
    "For each evaluation metric defined, it is possible to estimate their standard deviation analytically and have a good start point knowing the metrics variability.\n",
    "\n",
    "Depeding on the metric's distribution, the analytical estimates can be less accurate than an empirical estimate. So it is important to explore a little bit your data to have a good intuition about the distribution assumptions.\n",
    "\n",
    "Udacity provided the table below with useful assumptions of the distributions depending on the metric type\n",
    "\n",
    "<table align=\"left\">\n",
    "<tr><td><b>Type of metric</b></td><td><b>Distribution</b></td><td><b>Estimated Variance</b></td></tr>\n",
    "<tr><td>Probability </td><td>Binomial (normal)</td><td> $\\frac{\\hat{p}(1-\\hat(p)}{N}$ </td></tr>\n",
    "<tr><td> Mean </td><td>Normal</td><td> $\\frac{\\sigma^2}{N}$</td></tr>\n",
    "<tr><td>Median/percentile</td><td>depends</td><td>depends</td>\n",
    "<tr><td>Count/Difference</td><td>Normal(maybe)</td><td>Var(X) + Var(Y)</td>\n",
    "<tr><td>Rates</td><td>Poisson</td><td>$\\bar{x}$</td>\n",
    "<tr><td>Ratios</td><td>depends</td><td>depends</td>\n",
    "</table>"
   ]
  },
  {
   "cell_type": "markdown",
   "metadata": {},
   "source": [
    "It is also import to account to `Sensitivity` and `Robustness` of the chosen metric(s)  \n",
    "\n",
    "##### Is my metric sensitive enough to capture differences when they actually exist?\n",
    "\n",
    "##### What about when there is no difference? It is robust enough to not be easily changed?\n",
    "\n",
    "Here are some baseline values provided to this project:\n",
    "\n",
    "* Unique cookies to view course overview page per day: 40000\n",
    "* Unique cookies to click \"Start free trial\" per day: 3200\n",
    "* Enrollments per day: 660\n",
    "* Click-through-probability on \"Start free trial\": 0.08\n",
    "* Probability of enrolling, given click: 0.20625\n",
    "* Probability of payment, given enroll:\t0.53\n",
    "* Probability of payment, given click: 0.1093125"
   ]
  },
  {
   "cell_type": "code",
   "execution_count": 1,
   "metadata": {
    "collapsed": true
   },
   "outputs": [],
   "source": [
    "import pandas as pd\n",
    "import numpy as np\n",
    "import matplotlib.pyplot as plt\n",
    "import scipy.stats as stats"
   ]
  },
  {
   "cell_type": "code",
   "execution_count": 2,
   "metadata": {
    "collapsed": true
   },
   "outputs": [],
   "source": [
    "baseline_values = {'cookies_per_day': 40000,\n",
    "                   'cookies_click_button': 3200,\n",
    "                   'enrollments_per_day': 660,\n",
    "                   'CTP': 0.08,\n",
    "                   'p(enroll,click)': 0.20625,\n",
    "                   'p(payment,enroll)': 0.53,\n",
    "                   'p(payment,click)': 0.1093125}"
   ]
  },
  {
   "cell_type": "markdown",
   "metadata": {},
   "source": [
    "### Analytical / Theoretical estimates\n",
    "\n",
    "Using the baseline values provided we can estimate some analytical references for the data and use these estimates as a baseline of variability"
   ]
  },
  {
   "cell_type": "markdown",
   "metadata": {},
   "source": [
    "### Metric 01 - Gross Conversion\n",
    "\n",
    "As it is a rate calculation it might be a good assumption that it follows a Binomial Distribution and this is an important information because we can use the distribution's formulas to estimate the variability of this metric (Standard Error in this case) which is: \n",
    "\n",
    "## $\\sqrt{\\frac{p(1-p)}{N}}$\n",
    "\n",
    "From the baseline values the probability of users enroll given they clicked on Start Free button is:\n",
    "\n",
    "### P ( enroll | click) = 0.20625\n",
    "\n",
    "It is still missing an information to calculate the analytical variability: The **N** parameter. Udacity required an estimation for 5000 pageviews that needs to be transformed using the baseline values\n",
    "\n",
    "in other words as we have 40K cookies per day and 3200 clicks per day, how would it be transformed to a 5K pageviews per day?"
   ]
  },
  {
   "cell_type": "code",
   "execution_count": 3,
   "metadata": {},
   "outputs": [
    {
     "name": "stdout",
     "output_type": "stream",
     "text": [
      "Keeping the same proportion we would have 400.0 cookies for a sample of 5000 pageviews\n"
     ]
    }
   ],
   "source": [
    "N_gross = (baseline_values['cookies_click_button'] / baseline_values['cookies_per_day']) * 5000\n",
    "\n",
    "print(f\"Keeping the same proportion we would have {N_gross} cookies for a sample of 5000 pageviews\")"
   ]
  },
  {
   "cell_type": "code",
   "execution_count": 4,
   "metadata": {},
   "outputs": [
    {
     "name": "stdout",
     "output_type": "stream",
     "text": [
      "Probability 0.2062\n",
      "The analytical SE for Gross Conversion would be 0.0202\n",
      "With 95% confidence the margin of error would be 0.0397\n",
      "\n",
      "95% Confidence Interval\n",
      "Upper limit 0.2459\n",
      "Lower limit 0.1666\n"
     ]
    }
   ],
   "source": [
    "p_gross = baseline_values['p(enroll,click)']\n",
    "z_score_95 = 1.96\n",
    "SE_gross = np.sqrt((p_gross*(1-p_gross)) / N_gross)\n",
    "margin_error_gross = z_score_95 * SE_gross\n",
    "\n",
    "print('Probability {0:.4f}'.format(p_gross))\n",
    "print('The analytical SE for Gross Conversion would be {0:.4f}'.format(SE_gross))\n",
    "print('With 95% confidence the margin of error would be {0:.4f}'.format(margin_error_gross))\n",
    "print()\n",
    "print('95% Confidence Interval')\n",
    "print('Upper limit {0:.4f}'.format(p_gross + margin_error_gross))\n",
    "print('Lower limit {0:.4f}'.format(p_gross - margin_error_gross))"
   ]
  },
  {
   "cell_type": "markdown",
   "metadata": {},
   "source": [
    "### Metric 02 - Net Conversion\n",
    "\n",
    "Similar to Gross Conversion, this metric also could be assumed as a Binomial Distribution therefore we can use the same formulas. It also has the same `unity of analysis` (#cookies) so the same N can be applied to the variability calculations\n",
    "\n",
    "### P ( payment | click) = 0.01093125\n",
    "\n",
    "> The difference between Net and Gross conversion is that Net uses as its numerator people that have paid for the course instead of using people that have only enrolled (with or without any payment)"
   ]
  },
  {
   "cell_type": "code",
   "execution_count": 5,
   "metadata": {},
   "outputs": [
    {
     "name": "stdout",
     "output_type": "stream",
     "text": [
      "Keeping the same proportion we would have 400.0 cookies for a sample of 5000 pageviews\n"
     ]
    }
   ],
   "source": [
    "N_net = (baseline_values['cookies_click_button'] / baseline_values['cookies_per_day']) * 5000\n",
    "\n",
    "print(f\"Keeping the same proportion we would have {N_net} cookies for a sample of 5000 pageviews\")"
   ]
  },
  {
   "cell_type": "code",
   "execution_count": 6,
   "metadata": {},
   "outputs": [
    {
     "name": "stdout",
     "output_type": "stream",
     "text": [
      "Probability 0.1093\n",
      "The analytical SE for Net Conversion would be 0.0156\n",
      "With 95% confidence the margin of error would be 0.0306\n",
      "\n",
      "95% Confidence Interval\n",
      "Upper limit 0.1399\n",
      "Lower limit 0.0787\n"
     ]
    }
   ],
   "source": [
    "p_net = baseline_values['p(payment,click)']\n",
    "z_score_95 = 1.96\n",
    "SE_net = np.sqrt((p_net*(1-p_net)) / N_net)\n",
    "margin_error_net = z_score_95 * SE_net\n",
    "\n",
    "print('Probability {0:.4f}'.format(p_net))\n",
    "print('The analytical SE for Net Conversion would be {0:.4f}'.format(SE_net))\n",
    "print('With 95% confidence the margin of error would be {0:.4f}'.format(margin_error_net))\n",
    "print()\n",
    "print('95% Confidence Interval')\n",
    "print('Upper limit {0:.4f}'.format(p_net + margin_error_net))\n",
    "print('Lower limit {0:.4f}'.format(p_net - margin_error_net))"
   ]
  },
  {
   "cell_type": "markdown",
   "metadata": {},
   "source": [
    "### Metric 03 - Retention \n",
    "\n",
    "This metric is also a rate from another step of users subscription funnel but now it is measuring how many users are willing to pay for the course over all users that have enrolled and we can calculate using the same formula as before\n",
    "\n",
    "### P ( payment | enroll ) = 0.53"
   ]
  },
  {
   "cell_type": "code",
   "execution_count": 7,
   "metadata": {},
   "outputs": [
    {
     "name": "stdout",
     "output_type": "stream",
     "text": [
      "Keeping the same proportion we would have 82.5 users enrolled for a sample of 5000 pageviews\n"
     ]
    }
   ],
   "source": [
    "N_ret = (baseline_values['enrollments_per_day'] / baseline_values['cookies_per_day']) * 5000\n",
    "\n",
    "print(f\"Keeping the same proportion we would have {N_ret} users enrolled for a sample of 5000 pageviews\")"
   ]
  },
  {
   "cell_type": "code",
   "execution_count": 8,
   "metadata": {},
   "outputs": [
    {
     "name": "stdout",
     "output_type": "stream",
     "text": [
      "Probability 0.5300\n",
      "The analytical SE for Net Conversion would be 0.0549\n",
      "With 95% confidence the margin of error would be 0.1077\n",
      "\n",
      "95% Confidence Interval\n",
      "Upper limit 0.6377\n",
      "Lower limit 0.4223\n"
     ]
    }
   ],
   "source": [
    "p_ret = baseline_values['p(payment,enroll)']\n",
    "z_score_95 = 1.96\n",
    "SE_ret = np.sqrt((p_ret*(1-p_ret)) / N_ret)\n",
    "margin_error_ret = z_score_95 * SE_ret\n",
    "\n",
    "print('Probability {0:.4f}'.format(p_ret))\n",
    "print('The analytical SE for Net Conversion would be {0:.4f}'.format(SE_ret))\n",
    "print('With 95% confidence the margin of error would be {0:.4f}'.format(margin_error_ret))\n",
    "print()\n",
    "print('95% Confidence Interval')\n",
    "print('Upper limit {0:.4f}'.format(p_ret + margin_error_ret))\n",
    "print('Lower limit {0:.4f}'.format(p_ret - margin_error_ret))"
   ]
  },
  {
   "cell_type": "markdown",
   "metadata": {},
   "source": [
    "> For this metric the margin of error is large and it could be explained by the small sample size used in addition to the probability is higher than 50%, so it would be good to compare it to its empirical estimation to have a better reference"
   ]
  },
  {
   "cell_type": "markdown",
   "metadata": {},
   "source": [
    "### Comparing Analytical x Empirical estimations\n",
    "\n",
    "With more data available a deeper analysis could be performed at least for the metric `Retention` which had a lower sample size to calculate the analytical estimates. Comparing estimations from samples with true data can support (or not) the the distribution's assumptions and also the variability.\n",
    "\n",
    "Some of empirical estimates that could be useful:\n",
    "\n",
    "* Calculate Standard error from a sample STD\n",
    "* A/A tests (also used in `Sanity Checks` which would be covered in next sections)\n",
    "\n",
    "For reference these are the estimated analytical variance"
   ]
  },
  {
   "cell_type": "markdown",
   "metadata": {},
   "source": [
    "<table align='left'>\n",
    "<tr>\n",
    "   <td>\n",
    "   <b>Metric</b>\n",
    "   </td>\n",
    "   <td>\n",
    "   <b>Analytical STD</b>\n",
    "   </td>\n",
    "</tr>\n",
    "<tr>\n",
    "   <td>\n",
    "   Gross Conversion\n",
    "   </td>\n",
    "   <td>\n",
    "   0.0202\n",
    "   </td>\n",
    "</tr>\n",
    "<tr>\n",
    "   <td>\n",
    "   Net Conversion\n",
    "   </td>\n",
    "   <td>\n",
    "   0.0156\n",
    "   </td>\n",
    "</tr>\n",
    "<tr>\n",
    "   <td>\n",
    "   Retention\n",
    "   </td>\n",
    "   <td>\n",
    "   0.0549\n",
    "   </td>\n",
    "</tr>\n",
    "</table>"
   ]
  },
  {
   "cell_type": "markdown",
   "metadata": {},
   "source": [
    "## Sizing\n",
    "\n",
    "### Number of Samples vs. Power\n",
    "\n",
    "With the estimate variance calculated for each metric, it is possible to have a good intuition of how the data is expected to vary without any improvement and it could be very helpful to define the **practical significant values**, so the business can be more confident to make the decision to launch or not any feature/improvement based on the observed data and experiments.\n",
    "\n",
    "For this project the practical signifincant values have been already defined as follows:\n",
    "\n",
    "* **Gross Conversion:** 0.01\n",
    "* **Net Conversion:** 0.0075\n",
    "* **Retention:**: 0.01\n",
    "\n",
    "That means the business would only consider a significant improvement if the experiment shows at least a difference corresponding to the above values for each metric\n",
    "\n",
    "Furthermore it also has to be **statistical significant** which means the results will be **repetable** in a certain confidence level and then we can be more confident that any observed difference is unlikely to occur by chance.\n",
    "\n",
    "Therefore we have to calculate a minimum sample size in order to get a certain **power** (defined by 1- $\\beta$) and **confidence** ($\\alpha$) to reduce the chance to falsely <u>fail to reject the null hypothesis</u> (**false negative**) with no evidence of significant difference when it actually exists. \n",
    "\n",
    "*The opposite is also a bad thing: it wouldn't be good to reject the null hypothesis when it is actually true and consequently launch a feature with no improvement in the real world (**false positive**).* \n",
    "\n",
    "So that's why we have to define both **power** and **confidence** level for the experiment with a sample size large enough to meet these criteria.\n",
    "\n",
    "The sample size will influence the experiment duration, as it takes time to collect all the data needed in each sample group depending on the current traffic of your product/website. So all these things should be considered in the business definition of practical significant thresholds as well as the confidence and power levels desired.\n",
    "\n",
    "Another point is that there are three metrics to be tested for significant differences and the more metrics considered the higher the chance to make mistakes and for this reason, we can use a conservative way to adjust the confidence level of the experiment called [`Bonferroni correction`](https://en.wikipedia.org/wiki/Bonferroni_correction) with the following formula:\n",
    "\n",
    "# $\\frac{\\alpha}{n.metrics}$\n",
    "\n",
    "Common references for these parameters are: \n",
    "* $\\alpha$ = 0.05 (with bonferroni correction it would be 0.05 / 3 = 0.01666)\n",
    "* $\\beta$ = 20% (that means 80% of statistical power)\n",
    "\n",
    ">  *The Bonferroni correction increases the confidence level by reducing alpha and it is also good for experiments with highly correlated metrics (which is the case of this experiment)*\n",
    "\n",
    "With these parameters and explanations the next step is to calculate the required sample size according to the thresholds defined"
   ]
  },
  {
   "cell_type": "code",
   "execution_count": 9,
   "metadata": {
    "collapsed": true
   },
   "outputs": [],
   "source": [
    "d_min_gross = 0.01\n",
    "d_min_net = 0.0075\n",
    "d_min_ret = 0.01"
   ]
  },
  {
   "cell_type": "markdown",
   "metadata": {},
   "source": [
    "#### Credits for [this great post](https://towardsdatascience.com/a-summary-of-udacity-a-b-testing-course-9ecc32dedbb1) where the below function is coming from"
   ]
  },
  {
   "cell_type": "code",
   "execution_count": 10,
   "metadata": {
    "collapsed": true
   },
   "outputs": [],
   "source": [
    "def min_sample_size(bcr, mde, power=0.8, sig_level=0.05):\n",
    "    \n",
    "    \"\"\"Returns the minimum sample size to set up a split test\n",
    "    Arguments:\n",
    "        bcr (float): probability of success for control, sometimes\n",
    "        referred to as baseline conversion rate\n",
    "        mde (float): minimum change in measurement between control\n",
    "        group and test group if alternative hypothesis is true, sometimes\n",
    "        referred to as minimum detectable effect\n",
    "        power (float): probability of rejecting the null hypothesis when the\n",
    "        null hypothesis is false, typically 0.8\n",
    "        sig_level (float): significance level often denoted as alpha,\n",
    "        typically 0.05\n",
    "    Returns:\n",
    "        min_N: minimum sample size (float)\n",
    "    References:\n",
    "        Stanford lecture on sample sizes\n",
    "        http://statweb.stanford.edu/~susan/courses/s141/hopower.pdf\n",
    "    \"\"\"\n",
    "    \n",
    "    # standard normal distribution to determine z-values\n",
    "    standard_norm = stats.norm(0, 1)\n",
    "\n",
    "    # find Z_beta from desired power\n",
    "    Z_beta = standard_norm.ppf(power)\n",
    "\n",
    "    # find Z_alpha\n",
    "    Z_alpha = standard_norm.ppf(1-sig_level/2)\n",
    "\n",
    "    # average of probabilities from both groups\n",
    "    pooled_prob = (bcr + bcr+mde) / 2\n",
    "\n",
    "    min_N = (2 * pooled_prob * (1 - pooled_prob) * (Z_beta + Z_alpha)**2\n",
    "             / mde**2)\n",
    "\n",
    "    return min_N\n"
   ]
  },
  {
   "cell_type": "code",
   "execution_count": 11,
   "metadata": {
    "collapsed": true
   },
   "outputs": [],
   "source": [
    "def get_min_sample_size(alpha, flg_gross=True, flg_net=True, flg_ret=True, flg_bonferroni=True):\n",
    "    \n",
    "    \n",
    "    n_metrics = flg_gross + flg_net + flg_ret\n",
    "    N_min_gross = 0\n",
    "    N_min_net = 0\n",
    "    N_min_ret = 0\n",
    "    \n",
    "    alpha_bonferroni = alpha / n_metrics\n",
    "    \n",
    "    if flg_bonferroni:\n",
    "        calc_alpha = alpha_bonferroni\n",
    "    else:\n",
    "        calc_alpha = alpha\n",
    "    \n",
    "    if flg_gross:\n",
    "        N_min_gross = np.ceil(min_sample_size(bcr=p_gross, \n",
    "                                          mde=d_min_gross, \n",
    "                                          power=0.8, \n",
    "                                          sig_level=calc_alpha))\n",
    "    if flg_net:\n",
    "        N_min_net = np.ceil(min_sample_size(bcr=p_net, \n",
    "                                        mde=d_min_net, \n",
    "                                        power=0.8, \n",
    "                                        sig_level=calc_alpha))\n",
    "    if flg_ret:\n",
    "        N_min_ret = np.ceil(min_sample_size(bcr=p_ret, \n",
    "                                        mde=d_min_ret,\n",
    "                                        power=0.8, \n",
    "                                        sig_level=calc_alpha))\n",
    "\n",
    "    \n",
    "    return {'Gross Conversion': N_min_gross,\n",
    "           'Net Conversion': N_min_net,\n",
    "           'Retention': N_min_ret,\n",
    "           'alpha': calc_alpha}\n",
    "    \n",
    "    "
   ]
  },
  {
   "cell_type": "code",
   "execution_count": 12,
   "metadata": {},
   "outputs": [
    {
     "name": "stdout",
     "output_type": "stream",
     "text": [
      "alpha 0.016666666666666666\n",
      "Minimal sample size for Gross Conversion: 34888.0\n",
      "Minimal sample size for Net Conversion: 37328.0\n",
      "Minimal sample size for Retention: 52090.0\n"
     ]
    }
   ],
   "source": [
    "# Calculating min_sample_size using bonferroni correction with 3 metrics and alpha=0.05\n",
    "min_samples = get_min_sample_size(alpha=0.05)\n",
    "N_min_gross = min_samples['Gross Conversion']\n",
    "N_min_net = min_samples['Net Conversion']\n",
    "N_min_ret = min_samples['Retention']\n",
    "\n",
    "print(f\"alpha {min_samples['alpha']}\")\n",
    "print (f'Minimal sample size for Gross Conversion: {N_min_gross}')\n",
    "print (f'Minimal sample size for Net Conversion: {N_min_net}')\n",
    "print (f'Minimal sample size for Retention: {N_min_ret}')    "
   ]
  },
  {
   "cell_type": "markdown",
   "metadata": {},
   "source": [
    "The samples size calculated above are for **clicks** but as the experiment's `unity of diversion` is **cookie** they need to be converted using the ratio of the numbers previously provided (#Clicks / #Pagevies per day)\n",
    "\n",
    "### 40.000 cookies per day / 3200 clicks = 12.5\n",
    "\n",
    "#### That means it is necessary to have 12.5x the number of clicks to have the required pageviews\n",
    "\n",
    "> The ratio for `retention` would be cookies per day / **enrollments** (rather than **clicks**) because of the metric's definition. Therefore it would be 40.000 cookies per day / 660 enrollments per day = 60.606 \n",
    "\n",
    "Applying this logic to the sample size of each metric, the numbers would be:"
   ]
  },
  {
   "cell_type": "code",
   "execution_count": 13,
   "metadata": {},
   "outputs": [
    {
     "name": "stdout",
     "output_type": "stream",
     "text": [
      "Minimal sample size of pageviews for Gross Conversion: 436100\n",
      "Minimal sample size of pageviews for Net Conversion: 466600\n",
      "Minimal sample size of pageviews for Retention: 3156966\n"
     ]
    }
   ],
   "source": [
    "N_min_gross = int(min_samples['Gross Conversion'] * 12.5)\n",
    "N_min_net = int(min_samples['Net Conversion'] * 12.5)\n",
    "N_min_ret = int(min_samples['Retention'] * 60.606)\n",
    "print (f'Minimal sample size of pageviews for Gross Conversion: {N_min_gross}')\n",
    "print (f'Minimal sample size of pageviews for Net Conversion: {N_min_net}')\n",
    "print (f'Minimal sample size of pageviews for Retention: {N_min_ret}')"
   ]
  },
  {
   "cell_type": "code",
   "execution_count": 14,
   "metadata": {},
   "outputs": [
    {
     "name": "stdout",
     "output_type": "stream",
     "text": [
      "The overall sample size would be 4059666\n"
     ]
    }
   ],
   "source": [
    "N_overall_pagevies = int(N_min_gross+N_min_net+N_min_ret)\n",
    "print(f'The overall sample size would be {N_overall_pagevies}')"
   ]
  },
  {
   "cell_type": "markdown",
   "metadata": {},
   "source": [
    "### Choosing Duration vs. Exposure\n",
    "\n",
    "With the minimum sample size defined, the next step is planning the duration of the experiment and the proportion of available pageviews traffic that the this test will be exposed to."
   ]
  },
  {
   "cell_type": "code",
   "execution_count": 15,
   "metadata": {},
   "outputs": [
    {
     "name": "stdout",
     "output_type": "stream",
     "text": [
      "With this minimum sample size required and the capactity of capturing 40K\n",
      "pageviews per day it would take at least 102 days\n"
     ]
    }
   ],
   "source": [
    "duration_estimate = np.ceil(N_overall_pagevies / baseline_values['cookies_per_day'])\n",
    "print('With this minimum sample size required and the capactity of capturing 40K\\n\\\n",
    "pageviews per day it would take at least {0:.0f} days'.format(duration_estimate))"
   ]
  },
  {
   "cell_type": "markdown",
   "metadata": {},
   "source": [
    "One of the common constraints of an experiment is the **duration time** and for Udacity project it cannot take longer than a few weeks, otherwise this would be unreasonably long and some earlier decision should be reconsidered.\n",
    "\n",
    "Using the parameters and decisions made so far the experiment would take more than 100 days and it is too long.\n",
    "\n",
    "Besides it is considering 100% of the traffic used to the experiment.\n",
    "\n",
    "### Is it possible to run this experiment with 100% of the traffic? \n",
    "There is another experiment running at the same time that could prevent this one to use the entire traffic?\n",
    "\n",
    "### How risky this change would be? \n",
    "is it safe to use 100% traffic for this change or maybe it is a huge change and it would be safer to use only part of it for this experiment?\n",
    "\n",
    "The `trade-off` that business should consider in experiment's duration decisions is related to the minimum sample size required (according to the definitions of confidence level and statistical power) and the available time to run the experiment\n",
    "\n",
    "The next charts will show how duration changes depending on the chosen metrics and the proportion of traffic used and the dashed line show the expected duration (~23 days)"
   ]
  },
  {
   "cell_type": "code",
   "execution_count": 16,
   "metadata": {
    "collapsed": true
   },
   "outputs": [],
   "source": [
    "def generate_duration_data(alpha, flg_gross=True, flg_net=True, flg_ret=True, flg_bonf=True):\n",
    "    \n",
    "    traffic_prop = [1,.9,.8,.7,.6,.5]\n",
    "    result = {}\n",
    "    \n",
    "    for p in traffic_prop:\n",
    "        estimated_traffic = baseline_values['cookies_per_day'] * p\n",
    "        min_samples = get_min_sample_size(alpha=alpha, \n",
    "                                          flg_gross=flg_gross,\n",
    "                                          flg_net=flg_net,\n",
    "                                          flg_ret=flg_ret,\n",
    "                                          flg_bonferroni=flg_bonf)\n",
    "        N_min_gross = int(min_samples['Gross Conversion'] * 12.5)\n",
    "        N_min_net = int(min_samples['Net Conversion'] * 12.5)\n",
    "        N_min_ret = int(min_samples['Retention'] * 60.606)\n",
    "        N_overall_pagevies = int(N_min_gross+N_min_net+N_min_ret)\n",
    "        duration_estimate = np.ceil(N_overall_pagevies / estimated_traffic)\n",
    "        result[p] = duration_estimate\n",
    "    \n",
    "    return result"
   ]
  },
  {
   "cell_type": "code",
   "execution_count": 17,
   "metadata": {
    "collapsed": true
   },
   "outputs": [],
   "source": [
    "def plot_duration_chart(alpha, flg_gross=True, flg_net=True, flg_ret=True):\n",
    "    \n",
    "    #Generating data\n",
    "    result = generate_duration_data(alpha, flg_gross, flg_net, flg_ret, flg_bonf=False)\n",
    "    result_bonf = generate_duration_data(alpha, flg_gross, flg_net, flg_ret, flg_bonf=True)\n",
    "    \n",
    "    print(f'Minimum duration: {min(result.values())} days')\n",
    "    print(f'Minimum duration with Bonferroni: {min(result_bonf.values())} days')\n",
    "    \n",
    "    # Plotting data\n",
    "    x_axis = list(result.keys())\n",
    "    bonf_values = result_bonf.values()\n",
    "    normal_values = result.values()\n",
    "    plt.figure(figsize=(10,5))\n",
    "    plt.plot(x_axis,normal_values, color='steelblue', label='Regular alpha')\n",
    "    plt.plot(x_axis,bonf_values, color='darkblue', label='Bonferroni Correction')\n",
    "    plt.hlines(y=23, \n",
    "               xmin=min(x_axis), \n",
    "               xmax=max(x_axis),\n",
    "               linestyles='dashed',\n",
    "              color='lightgrey',\n",
    "              label= 'Expected Duration')\n",
    "    plt.ylabel('Duration (in days)')\n",
    "    plt.ylim(0,max(max(normal_values), max(bonf_values))+5)\n",
    "    plt.xlabel('Traffic Rate (%)')\n",
    "    plt.title('alpha={0:.2f}'.format(alpha))\n",
    "    plt.legend()\n",
    "    plt.show()\n",
    "    "
   ]
  },
  {
   "cell_type": "code",
   "execution_count": 18,
   "metadata": {},
   "outputs": [
    {
     "name": "stdout",
     "output_type": "stream",
     "text": [
      "Minimum duration: 77.0 days\n",
      "Minimum duration with Bonferroni: 102.0 days\n"
     ]
    },
    {
     "data": {
      "image/png": "[encoded data removed]",
      "text/plain": [
       "<Figure size 720x360 with 1 Axes>"
      ]
     },
     "metadata": {},
     "output_type": "display_data"
    }
   ],
   "source": [
    "plot_duration_chart(alpha=0.05, flg_gross=True, flg_net=True, flg_ret=True)"
   ]
  },
  {
   "cell_type": "markdown",
   "metadata": {},
   "source": [
    "As mentioned above, with the parameters defined so far the minimum time would be much larger than the expected, so some of the previous decision has to be reviewed in order to reduce the experiment duration like: \n",
    "* removing some metric and/or \n",
    "* reducing the confidence levels (that means increasing either $\\alpha$ and/or $\\beta$)\n",
    "\n",
    "Let's check some scenarios with different parameters and metrics to decide which one would be a better approach to reduce the duration time"
   ]
  },
  {
   "cell_type": "markdown",
   "metadata": {},
   "source": [
    "### Increasing alpha"
   ]
  },
  {
   "cell_type": "code",
   "execution_count": 19,
   "metadata": {},
   "outputs": [
    {
     "name": "stdout",
     "output_type": "stream",
     "text": [
      "Minimum duration: 60.0 days\n",
      "Minimum duration with Bonferroni: 86.0 days\n"
     ]
    },
    {
     "data": {
      "image/png": "[encoded data removed]",
      "text/plain": [
       "<Figure size 720x360 with 1 Axes>"
      ]
     },
     "metadata": {},
     "output_type": "display_data"
    }
   ],
   "source": [
    "plot_duration_chart(alpha=0.1, flg_gross=True, flg_net=True, flg_ret=True)"
   ]
  },
  {
   "cell_type": "markdown",
   "metadata": {},
   "source": [
    "Despite of the decrease of the minimum time it is still taking too long to finish the experiment, so only increasing alpha won't be enough to meet the the duration criteria."
   ]
  },
  {
   "cell_type": "markdown",
   "metadata": {},
   "source": [
    "### Removing some metrics\n",
    "\n",
    "Some of the selected metrics are roughly measuring the same thing, as they came from the same users subscription funnel. Let's back to the metrics definitions:\n",
    "\n",
    "* **Gross Conversion:** From all the users that clicked on the `Start Free Trial` button, how many of them actually completed the checkout process? (wider view of the funnel) \n",
    "* **Net Conversion:** This metric is similar to the Gross Conversion but instead of just measuring the users who passed from the checkout process, it is considering the users that has remained enrolled after the free-trial period which means that they've made at least one payment.\n",
    "* **Retention:** From all the enrolled users in the free-trial period, how many of them actually moved foward to the paid version?\n",
    "\n",
    "All of these metrics are important as they are measuring different aspects of the funnel, however the `retention` metric could be a good candidate to be removed from this analysis if we consider the logic below:\n",
    "\n",
    "it is expected a higher `retention` rate in the experimental group as the users would know beforehand whether they have enough time available. So it could be filtering more engaged users on initial phases and consequently a big part of them will be willing to get to the end. That said, an increase in this metric could be a reflection of improvements of earlier steps of the funnel like Gross and Net conversions. Besides, `retention` is the metric with the highest estimated analytical variance thus it requires a larger sample size which direcly affects the experiment's duration.\n",
    "\n",
    "Therefore the below chart shows how long it would take to run the experiment without the `retention` metric"
   ]
  },
  {
   "cell_type": "markdown",
   "metadata": {},
   "source": [
    "### Removing Retention Metric"
   ]
  },
  {
   "cell_type": "code",
   "execution_count": 20,
   "metadata": {},
   "outputs": [
    {
     "name": "stdout",
     "output_type": "stream",
     "text": [
      "Minimum duration: 17.0 days\n",
      "Minimum duration with Bonferroni: 21.0 days\n"
     ]
    },
    {
     "data": {
      "image/png": "[encoded data removed]",
      "text/plain": [
       "<Figure size 720x360 with 1 Axes>"
      ]
     },
     "metadata": {},
     "output_type": "display_data"
    }
   ],
   "source": [
    "plot_duration_chart(alpha=0.05, flg_gross=True, flg_net=True, flg_ret=False)"
   ]
  },
  {
   "cell_type": "markdown",
   "metadata": {},
   "source": [
    "With the same alpha and beta, without the `retention` metric the experiment could run within 17-21 days. That is a huge improvement with a minor (if any) information loss as it is still considering Gross and Net Conversion. \n",
    "\n",
    "Besides using Bonferroni correction for this highly correlated metrics is a conservative approach that could be too conservartive in some cases when there are many metrics to evaluate. \n",
    "\n",
    "Since there are only 2 metrics it would not be an issue."
   ]
  },
  {
   "cell_type": "markdown",
   "metadata": {},
   "source": [
    "### What about the traffic rate considerations?\n",
    "\n",
    "The traffic rate decision depends on some factors like:\n",
    "\n",
    "* Is this change risky? Maybe is safer (especially for big changes) not exposing 100% of your users to the experiment.\n",
    "* Another experiment could be running at the same time, so to avoid the groups to overlap, only part of your users/traffic would be actually available.\n",
    "\n",
    "\n",
    "> After removing `retention` with 90% of the traffic it still has an acceptable duration time."
   ]
  },
  {
   "cell_type": "code",
   "execution_count": 21,
   "metadata": {},
   "outputs": [
    {
     "name": "stdout",
     "output_type": "stream",
     "text": [
      "With 90% of the traffic and appying Bonferroni correction,the experiment duration would be 23.0 days\n"
     ]
    }
   ],
   "source": [
    "result_bonf = generate_duration_data(alpha=0.05, \n",
    "                                     flg_gross=True, \n",
    "                                     flg_net=True, \n",
    "                                     flg_ret=False, \n",
    "                                     flg_bonf=True)\n",
    "\n",
    "print(f'With 90% of the traffic and appying Bonferroni correction,\\\n",
    "the experiment duration would be {result_bonf[.9]} days')"
   ]
  },
  {
   "cell_type": "markdown",
   "metadata": {},
   "source": [
    "## Experiment Analysis - Evaluating results\n",
    "\n",
    "Udacity provided a dataset with real data (they've changed the numbers but not the aspects of the data) from an experiment they've run regarding this project and now it is time to evaluate the results and make a final recommendation to the business"
   ]
  },
  {
   "cell_type": "code",
   "execution_count": 22,
   "metadata": {
    "collapsed": true
   },
   "outputs": [],
   "source": [
    "df_control = pd.read_csv('../datasets/raw/Final Project Results - Control.csv')"
   ]
  },
  {
   "cell_type": "code",
   "execution_count": 23,
   "metadata": {},
   "outputs": [
    {
     "data": {
      "text/html": [
       "<div>\n",
       "<style scoped>\n",
       "    .dataframe tbody tr th:only-of-type {\n",
       "        vertical-align: middle;\n",
       "    }\n",
       "\n",
       "    .dataframe tbody tr th {\n",
       "        vertical-align: top;\n",
       "    }\n",
       "\n",
       "    .dataframe thead th {\n",
       "        text-align: right;\n",
       "    }\n",
       "</style>\n",
       "<table border=\"1\" class=\"dataframe\">\n",
       "  <thead>\n",
       "    <tr style=\"text-align: right;\">\n",
       "      <th></th>\n",
       "      <th>Date</th>\n",
       "      <th>Pageviews</th>\n",
       "      <th>Clicks</th>\n",
       "      <th>Enrollments</th>\n",
       "      <th>Payments</th>\n",
       "    </tr>\n",
       "  </thead>\n",
       "  <tbody>\n",
       "    <tr>\n",
       "      <th>0</th>\n",
       "      <td>Sat, Oct 11</td>\n",
       "      <td>7723</td>\n",
       "      <td>687</td>\n",
       "      <td>134.0</td>\n",
       "      <td>70.0</td>\n",
       "    </tr>\n",
       "    <tr>\n",
       "      <th>1</th>\n",
       "      <td>Sun, Oct 12</td>\n",
       "      <td>9102</td>\n",
       "      <td>779</td>\n",
       "      <td>147.0</td>\n",
       "      <td>70.0</td>\n",
       "    </tr>\n",
       "    <tr>\n",
       "      <th>2</th>\n",
       "      <td>Mon, Oct 13</td>\n",
       "      <td>10511</td>\n",
       "      <td>909</td>\n",
       "      <td>167.0</td>\n",
       "      <td>95.0</td>\n",
       "    </tr>\n",
       "    <tr>\n",
       "      <th>3</th>\n",
       "      <td>Tue, Oct 14</td>\n",
       "      <td>9871</td>\n",
       "      <td>836</td>\n",
       "      <td>156.0</td>\n",
       "      <td>105.0</td>\n",
       "    </tr>\n",
       "    <tr>\n",
       "      <th>4</th>\n",
       "      <td>Wed, Oct 15</td>\n",
       "      <td>10014</td>\n",
       "      <td>837</td>\n",
       "      <td>163.0</td>\n",
       "      <td>64.0</td>\n",
       "    </tr>\n",
       "  </tbody>\n",
       "</table>\n",
       "</div>"
      ],
      "text/plain": [
       "          Date  Pageviews  Clicks  Enrollments  Payments\n",
       "0  Sat, Oct 11       7723     687        134.0      70.0\n",
       "1  Sun, Oct 12       9102     779        147.0      70.0\n",
       "2  Mon, Oct 13      10511     909        167.0      95.0\n",
       "3  Tue, Oct 14       9871     836        156.0     105.0\n",
       "4  Wed, Oct 15      10014     837        163.0      64.0"
      ]
     },
     "execution_count": 23,
     "metadata": {},
     "output_type": "execute_result"
    }
   ],
   "source": [
    "df_control.head()"
   ]
  },
  {
   "cell_type": "code",
   "execution_count": 24,
   "metadata": {
    "collapsed": true
   },
   "outputs": [],
   "source": [
    "df_exp = pd.read_csv('../datasets/raw/Final Project Results - Experiment.csv')"
   ]
  },
  {
   "cell_type": "code",
   "execution_count": 25,
   "metadata": {},
   "outputs": [
    {
     "data": {
      "text/html": [
       "<div>\n",
       "<style scoped>\n",
       "    .dataframe tbody tr th:only-of-type {\n",
       "        vertical-align: middle;\n",
       "    }\n",
       "\n",
       "    .dataframe tbody tr th {\n",
       "        vertical-align: top;\n",
       "    }\n",
       "\n",
       "    .dataframe thead th {\n",
       "        text-align: right;\n",
       "    }\n",
       "</style>\n",
       "<table border=\"1\" class=\"dataframe\">\n",
       "  <thead>\n",
       "    <tr style=\"text-align: right;\">\n",
       "      <th></th>\n",
       "      <th>Date</th>\n",
       "      <th>Pageviews</th>\n",
       "      <th>Clicks</th>\n",
       "      <th>Enrollments</th>\n",
       "      <th>Payments</th>\n",
       "    </tr>\n",
       "  </thead>\n",
       "  <tbody>\n",
       "    <tr>\n",
       "      <th>0</th>\n",
       "      <td>Sat, Oct 11</td>\n",
       "      <td>7716</td>\n",
       "      <td>686</td>\n",
       "      <td>105.0</td>\n",
       "      <td>34.0</td>\n",
       "    </tr>\n",
       "    <tr>\n",
       "      <th>1</th>\n",
       "      <td>Sun, Oct 12</td>\n",
       "      <td>9288</td>\n",
       "      <td>785</td>\n",
       "      <td>116.0</td>\n",
       "      <td>91.0</td>\n",
       "    </tr>\n",
       "    <tr>\n",
       "      <th>2</th>\n",
       "      <td>Mon, Oct 13</td>\n",
       "      <td>10480</td>\n",
       "      <td>884</td>\n",
       "      <td>145.0</td>\n",
       "      <td>79.0</td>\n",
       "    </tr>\n",
       "    <tr>\n",
       "      <th>3</th>\n",
       "      <td>Tue, Oct 14</td>\n",
       "      <td>9867</td>\n",
       "      <td>827</td>\n",
       "      <td>138.0</td>\n",
       "      <td>92.0</td>\n",
       "    </tr>\n",
       "    <tr>\n",
       "      <th>4</th>\n",
       "      <td>Wed, Oct 15</td>\n",
       "      <td>9793</td>\n",
       "      <td>832</td>\n",
       "      <td>140.0</td>\n",
       "      <td>94.0</td>\n",
       "    </tr>\n",
       "  </tbody>\n",
       "</table>\n",
       "</div>"
      ],
      "text/plain": [
       "          Date  Pageviews  Clicks  Enrollments  Payments\n",
       "0  Sat, Oct 11       7716     686        105.0      34.0\n",
       "1  Sun, Oct 12       9288     785        116.0      91.0\n",
       "2  Mon, Oct 13      10480     884        145.0      79.0\n",
       "3  Tue, Oct 14       9867     827        138.0      92.0\n",
       "4  Wed, Oct 15       9793     832        140.0      94.0"
      ]
     },
     "execution_count": 25,
     "metadata": {},
     "output_type": "execute_result"
    }
   ],
   "source": [
    "df_exp.head()"
   ]
  },
  {
   "cell_type": "code",
   "execution_count": 26,
   "metadata": {
    "collapsed": true
   },
   "outputs": [],
   "source": [
    "df_a_b_test = df_control.merge(df_exp, on='Date', suffixes=['_cont', '_exp'])"
   ]
  },
  {
   "cell_type": "code",
   "execution_count": 27,
   "metadata": {},
   "outputs": [
    {
     "data": {
      "text/html": [
       "<div>\n",
       "<style scoped>\n",
       "    .dataframe tbody tr th:only-of-type {\n",
       "        vertical-align: middle;\n",
       "    }\n",
       "\n",
       "    .dataframe tbody tr th {\n",
       "        vertical-align: top;\n",
       "    }\n",
       "\n",
       "    .dataframe thead th {\n",
       "        text-align: right;\n",
       "    }\n",
       "</style>\n",
       "<table border=\"1\" class=\"dataframe\">\n",
       "  <thead>\n",
       "    <tr style=\"text-align: right;\">\n",
       "      <th></th>\n",
       "      <th>count</th>\n",
       "      <th>mean</th>\n",
       "      <th>std</th>\n",
       "      <th>min</th>\n",
       "      <th>25%</th>\n",
       "      <th>50%</th>\n",
       "      <th>75%</th>\n",
       "      <th>max</th>\n",
       "    </tr>\n",
       "  </thead>\n",
       "  <tbody>\n",
       "    <tr>\n",
       "      <th>Pageviews_cont</th>\n",
       "      <td>37.0</td>\n",
       "      <td>9339.000000</td>\n",
       "      <td>740.239563</td>\n",
       "      <td>7434.0</td>\n",
       "      <td>8896.0</td>\n",
       "      <td>9420.0</td>\n",
       "      <td>9871.0</td>\n",
       "      <td>10667.0</td>\n",
       "    </tr>\n",
       "    <tr>\n",
       "      <th>Clicks_cont</th>\n",
       "      <td>37.0</td>\n",
       "      <td>766.972973</td>\n",
       "      <td>68.286767</td>\n",
       "      <td>632.0</td>\n",
       "      <td>708.0</td>\n",
       "      <td>759.0</td>\n",
       "      <td>825.0</td>\n",
       "      <td>909.0</td>\n",
       "    </tr>\n",
       "    <tr>\n",
       "      <th>Enrollments_cont</th>\n",
       "      <td>23.0</td>\n",
       "      <td>164.565217</td>\n",
       "      <td>29.977000</td>\n",
       "      <td>110.0</td>\n",
       "      <td>146.5</td>\n",
       "      <td>162.0</td>\n",
       "      <td>175.0</td>\n",
       "      <td>233.0</td>\n",
       "    </tr>\n",
       "    <tr>\n",
       "      <th>Payments_cont</th>\n",
       "      <td>23.0</td>\n",
       "      <td>88.391304</td>\n",
       "      <td>20.650202</td>\n",
       "      <td>56.0</td>\n",
       "      <td>70.0</td>\n",
       "      <td>91.0</td>\n",
       "      <td>102.5</td>\n",
       "      <td>128.0</td>\n",
       "    </tr>\n",
       "    <tr>\n",
       "      <th>Pageviews_exp</th>\n",
       "      <td>37.0</td>\n",
       "      <td>9315.135135</td>\n",
       "      <td>708.070781</td>\n",
       "      <td>7664.0</td>\n",
       "      <td>8881.0</td>\n",
       "      <td>9359.0</td>\n",
       "      <td>9737.0</td>\n",
       "      <td>10551.0</td>\n",
       "    </tr>\n",
       "    <tr>\n",
       "      <th>Clicks_exp</th>\n",
       "      <td>37.0</td>\n",
       "      <td>765.540541</td>\n",
       "      <td>64.578374</td>\n",
       "      <td>642.0</td>\n",
       "      <td>722.0</td>\n",
       "      <td>770.0</td>\n",
       "      <td>827.0</td>\n",
       "      <td>884.0</td>\n",
       "    </tr>\n",
       "    <tr>\n",
       "      <th>Enrollments_exp</th>\n",
       "      <td>23.0</td>\n",
       "      <td>148.826087</td>\n",
       "      <td>33.234227</td>\n",
       "      <td>94.0</td>\n",
       "      <td>127.0</td>\n",
       "      <td>142.0</td>\n",
       "      <td>172.0</td>\n",
       "      <td>213.0</td>\n",
       "    </tr>\n",
       "    <tr>\n",
       "      <th>Payments_exp</th>\n",
       "      <td>23.0</td>\n",
       "      <td>84.565217</td>\n",
       "      <td>23.060841</td>\n",
       "      <td>34.0</td>\n",
       "      <td>69.0</td>\n",
       "      <td>91.0</td>\n",
       "      <td>99.0</td>\n",
       "      <td>123.0</td>\n",
       "    </tr>\n",
       "  </tbody>\n",
       "</table>\n",
       "</div>"
      ],
      "text/plain": [
       "                  count         mean         std     min     25%     50%  \\\n",
       "Pageviews_cont     37.0  9339.000000  740.239563  7434.0  8896.0  9420.0   \n",
       "Clicks_cont        37.0   766.972973   68.286767   632.0   708.0   759.0   \n",
       "Enrollments_cont   23.0   164.565217   29.977000   110.0   146.5   162.0   \n",
       "Payments_cont      23.0    88.391304   20.650202    56.0    70.0    91.0   \n",
       "Pageviews_exp      37.0  9315.135135  708.070781  7664.0  8881.0  9359.0   \n",
       "Clicks_exp         37.0   765.540541   64.578374   642.0   722.0   770.0   \n",
       "Enrollments_exp    23.0   148.826087   33.234227    94.0   127.0   142.0   \n",
       "Payments_exp       23.0    84.565217   23.060841    34.0    69.0    91.0   \n",
       "\n",
       "                     75%      max  \n",
       "Pageviews_cont    9871.0  10667.0  \n",
       "Clicks_cont        825.0    909.0  \n",
       "Enrollments_cont   175.0    233.0  \n",
       "Payments_cont      102.5    128.0  \n",
       "Pageviews_exp     9737.0  10551.0  \n",
       "Clicks_exp         827.0    884.0  \n",
       "Enrollments_exp    172.0    213.0  \n",
       "Payments_exp        99.0    123.0  "
      ]
     },
     "execution_count": 27,
     "metadata": {},
     "output_type": "execute_result"
    }
   ],
   "source": [
    "df_a_b_test.describe().T"
   ]
  },
  {
   "cell_type": "code",
   "execution_count": 28,
   "metadata": {
    "collapsed": true
   },
   "outputs": [],
   "source": [
    "df_a_b_test['gross_conversion_cont'] = df_a_b_test['Enrollments_cont'] / df_a_b_test['Clicks_cont']\n",
    "df_a_b_test['gross_conversion_exp'] = df_a_b_test['Enrollments_exp'] / df_a_b_test['Clicks_exp']\n",
    "\n",
    "df_a_b_test['net_conversion_cont'] = df_a_b_test['Payments_cont'] / df_a_b_test['Clicks_cont']\n",
    "df_a_b_test['net_conversion_exp'] = df_a_b_test['Payments_exp'] / df_a_b_test['Clicks_exp']"
   ]
  },
  {
   "cell_type": "code",
   "execution_count": 29,
   "metadata": {},
   "outputs": [
    {
     "data": {
      "image/png": "[encoded data removed]",
      "text/plain": [
       "<Figure size 864x360 with 1 Axes>"
      ]
     },
     "metadata": {},
     "output_type": "display_data"
    }
   ],
   "source": [
    "df_a_b_test[['gross_conversion_cont', \n",
    "             'gross_conversion_exp',\n",
    "             'net_conversion_cont',\n",
    "            'net_conversion_exp']].plot(kind='box',\n",
    "                                        figsize=(12,5))\n",
    "\n",
    "plt.show()"
   ]
  },
  {
   "cell_type": "markdown",
   "metadata": {},
   "source": [
    "If the hypothesis (suggesting users a minimum availability time would make difference in the subscription process)is true, then the expected changes on these metrics are:\n",
    "\n",
    "1. **Lower Gross Conversion** because it is filtering users on the free-trial enrollment process.\n",
    "2. **Lower Net Conversion:** With less users enrolled in the free-trial due to the Gross Conversion reduction, it is expected to have even fewer users in the next step (the payment step) which is the numerator of this metric. So reducing it without changing the denominator, Net Conversion is also expected to be lower.\n",
    "\n",
    "> **Observarions:**\n",
    "1. Net Conversion might not be affected if the users that pay for the courses are already engaged, meaning that regardless of being informed about suggested availability, they would go to the payment step anyway.\n",
    "2. If we still have the Retention metric in the evaluation process, we would expect it to be higher hoping that people that got in this phase of the funnel are more engaged than the control group because of the initial filter.\n",
    "\n",
    "It seems that there is a difference between the control and experimental groups according to the plots above, but before drawing any conclusion, we need to make sure that the groups have been properly divided and the `invariant` metrics previously defined are not significantly different. Therefore next step is testing those things through a **Sanity Check**"
   ]
  },
  {
   "cell_type": "code",
   "execution_count": 30,
   "metadata": {
    "collapsed": true
   },
   "outputs": [],
   "source": [
    "def mean_confidence_interval(data, confidence=0.95):\n",
    "    a = 1.0 * np.array(data)\n",
    "    n = len(a)\n",
    "    m, se = np.mean(a), stats.sem(a)\n",
    "    h = se * stats.t.ppf((1 + confidence) / 2., n-1)\n",
    "    return m, m-h, m+h"
   ]
  },
  {
   "cell_type": "markdown",
   "metadata": {},
   "source": [
    "## Sanity Check\n",
    "\n",
    "Here are the metrics defined as `invariant` metrics:\n",
    "\n",
    "* **Number of cookies (pageviews):** This is the experiment's `unity of diversion` so we have to be sure that they are evenly distributed between the groups.\n",
    "\n",
    "* **Number of clicks:**: It should not be changed with the new feature and can be used as invariant metric in our sanity check.\n",
    "\n",
    "* **click-through-probability:** This is the above metrics divided by each other and also should not be any different for both control and experimental group.\n",
    "\n",
    "For metrics that are counts (such as pageviews and clicks) we can assume a Binomial Distribution with expected value of 0.5 in each group.\n",
    "\n",
    "In the case that CTP (Click Through Probability) we have to build a confidence interval for this value and check whether the observed value is within this interval."
   ]
  },
  {
   "cell_type": "code",
   "execution_count": 31,
   "metadata": {
    "collapsed": true
   },
   "outputs": [],
   "source": [
    "def sanity_check_count_diff(n_control, n_exp, N, confidence=0.95):\n",
    "    \n",
    "    expected = 0.5\n",
    "    \n",
    "    z_score = abs(np.round(stats.norm.ppf((1-confidence)/2),2))\n",
    "    \n",
    "    #Binomial_distribution SE formula\n",
    "    SE = np.sqrt(expected*(1-expected) / N)\n",
    "\n",
    "    margin_error = SE * z_score\n",
    "\n",
    "    upper_limit = expected + margin_error\n",
    "    lower_limit = expected - margin_error\n",
    "    \n",
    "    for test_n in [n_control, n_exp]:\n",
    "        \n",
    "        observed = test_n / N\n",
    "\n",
    "        print('Observed {0:.4f}'.format(observed))\n",
    "\n",
    "        if (observed >= lower_limit) & (observed <= upper_limit):\n",
    "            print('Sanity check passed!')\n",
    "        else:\n",
    "            print('Sanity check failed!')\n",
    "\n",
    "        print()\n",
    "        \n",
    "    \n",
    "    print('Lower limit {0:.4f}'.format(lower_limit))\n",
    "    print('Upper limit {0:.4f}'.format(upper_limit))\n",
    "\n",
    "\n",
    "    return (lower_limit, upper_limit)\n",
    "    "
   ]
  },
  {
   "cell_type": "code",
   "execution_count": 32,
   "metadata": {
    "collapsed": true
   },
   "outputs": [],
   "source": [
    "def binomial_significant_diff(n_a, n_b, N_a, N_b,alpha=0.05):\n",
    "    \n",
    "    p_a = n_a / N_a\n",
    "    p_b = n_b / N_b\n",
    "    \n",
    "    d_hat = p_b - p_a\n",
    "    \n",
    "    z_score = abs(np.round(stats.norm.ppf((alpha)/2),2))\n",
    "    \n",
    "    pooled_prob = (n_a + n_b) / (N_a + N_b)\n",
    "    \n",
    "    se_pooled = np.sqrt(pooled_prob*(1-pooled_prob)*(1/N_a + 1/N_b))\n",
    "    \n",
    "    pooled_margin_error = z_score * se_pooled\n",
    "    \n",
    "    pooled_upper_limit = d_hat+pooled_margin_error\n",
    "    pooled_lower_limit = d_hat-pooled_upper_limit\n",
    "         \n",
    "            \n",
    "    print('Observed {0:.4f}'.format(d_hat))\n",
    "\n",
    "    if (d_hat >= pooled_lower_limit) & (d_hat <= pooled_upper_limit):\n",
    "        print('No significant difference found!')\n",
    "    else:\n",
    "        print('Significant difference found!')\n",
    "        \n",
    "\n",
    "    print()        \n",
    "    \n",
    "    print('alpha {0:.2f}'.format(alpha)) \n",
    "    print('Margin of error {0:.4f}'.format(pooled_margin_error))\n",
    "    print('Lower limit {0:.4f}'.format(pooled_lower_limit))\n",
    "    print('Upper limit {0:.4f}'.format(pooled_upper_limit))\n",
    "\n",
    "\n",
    "    return (pooled_lower_limit, pooled_upper_limit)\n",
    "    "
   ]
  },
  {
   "cell_type": "markdown",
   "metadata": {},
   "source": [
    "### Pageviews"
   ]
  },
  {
   "cell_type": "code",
   "execution_count": 33,
   "metadata": {
    "collapsed": true
   },
   "outputs": [],
   "source": [
    "N_control = df_control['Pageviews'].sum()\n",
    "N_exp = df_exp['Pageviews'].sum()\n",
    "total_pagevies =  N_control + N_exp"
   ]
  },
  {
   "cell_type": "code",
   "execution_count": 34,
   "metadata": {},
   "outputs": [
    {
     "data": {
      "text/plain": [
       "0.5006396668806133"
      ]
     },
     "execution_count": 34,
     "metadata": {},
     "output_type": "execute_result"
    }
   ],
   "source": [
    "N_control / total_pagevies"
   ]
  },
  {
   "cell_type": "code",
   "execution_count": 35,
   "metadata": {},
   "outputs": [
    {
     "data": {
      "text/plain": [
       "0.4993603331193866"
      ]
     },
     "execution_count": 35,
     "metadata": {},
     "output_type": "execute_result"
    }
   ],
   "source": [
    "N_exp / total_pagevies"
   ]
  },
  {
   "cell_type": "code",
   "execution_count": 36,
   "metadata": {},
   "outputs": [
    {
     "name": "stdout",
     "output_type": "stream",
     "text": [
      "Observed 0.5006\n",
      "Sanity check passed!\n",
      "\n",
      "Observed 0.4994\n",
      "Sanity check passed!\n",
      "\n",
      "Lower limit 0.4988\n",
      "Upper limit 0.5012\n"
     ]
    },
    {
     "data": {
      "text/plain": [
       "(0.49882039214902313, 0.5011796078509769)"
      ]
     },
     "execution_count": 36,
     "metadata": {},
     "output_type": "execute_result"
    }
   ],
   "source": [
    "sanity_check_count_diff(N_control, N_exp, total_pagevies)"
   ]
  },
  {
   "cell_type": "markdown",
   "metadata": {},
   "source": [
    "### Clicks"
   ]
  },
  {
   "cell_type": "code",
   "execution_count": 37,
   "metadata": {
    "collapsed": true
   },
   "outputs": [],
   "source": [
    "N_control = df_control['Clicks'].sum()\n",
    "N_exp = df_exp['Clicks'].sum()\n",
    "total_clicks =  N_control + N_exp"
   ]
  },
  {
   "cell_type": "code",
   "execution_count": 38,
   "metadata": {},
   "outputs": [
    {
     "data": {
      "text/plain": [
       "0.5004673474066628"
      ]
     },
     "execution_count": 38,
     "metadata": {},
     "output_type": "execute_result"
    }
   ],
   "source": [
    "N_control / total_clicks"
   ]
  },
  {
   "cell_type": "code",
   "execution_count": 39,
   "metadata": {},
   "outputs": [
    {
     "data": {
      "text/plain": [
       "0.49953265259333723"
      ]
     },
     "execution_count": 39,
     "metadata": {},
     "output_type": "execute_result"
    }
   ],
   "source": [
    "N_exp / total_clicks"
   ]
  },
  {
   "cell_type": "code",
   "execution_count": 40,
   "metadata": {},
   "outputs": [
    {
     "name": "stdout",
     "output_type": "stream",
     "text": [
      "Observed 0.5005\n",
      "Sanity check passed!\n",
      "\n",
      "Observed 0.4995\n",
      "Sanity check passed!\n",
      "\n",
      "Lower limit 0.4959\n",
      "Upper limit 0.5041\n"
     ]
    },
    {
     "data": {
      "text/plain": [
       "(0.49588449572378945, 0.5041155042762105)"
      ]
     },
     "execution_count": 40,
     "metadata": {},
     "output_type": "execute_result"
    }
   ],
   "source": [
    "sanity_check_count_diff(N_control, N_exp, total_clicks)"
   ]
  },
  {
   "cell_type": "markdown",
   "metadata": {},
   "source": [
    "In these cases the observed difference is within the confidence intervals, so they passed the Sanity Check!"
   ]
  },
  {
   "cell_type": "markdown",
   "metadata": {},
   "source": [
    "### Click-throught-probability\n",
    "\n",
    "We want to check whether this metric has no significant difference between the control and experimental group"
   ]
  },
  {
   "cell_type": "code",
   "execution_count": 41,
   "metadata": {
    "collapsed": true
   },
   "outputs": [],
   "source": [
    "n_control = df_control['Clicks'].sum() \n",
    "N_control = df_control['Pageviews'].sum()\n",
    "\n",
    "n_exp = df_exp['Clicks'].sum() \n",
    "N_exp = df_exp['Pageviews'].sum()"
   ]
  },
  {
   "cell_type": "code",
   "execution_count": 42,
   "metadata": {},
   "outputs": [
    {
     "name": "stdout",
     "output_type": "stream",
     "text": [
      "Observed 0.0001\n",
      "No significant difference found!\n",
      "\n",
      "alpha 0.05\n",
      "Margin of error 0.0013\n",
      "Lower limit -0.0013\n",
      "Upper limit 0.0014\n"
     ]
    },
    {
     "data": {
      "text/plain": [
       "(-0.0012956791986518956, 0.0013523062902388316)"
      ]
     },
     "execution_count": 42,
     "metadata": {},
     "output_type": "execute_result"
    }
   ],
   "source": [
    "binomial_significant_diff(n_control, n_exp, N_control, N_exp)"
   ]
  },
  {
   "cell_type": "markdown",
   "metadata": {},
   "source": [
    "As the confidence interval for the difference contains zero and also the observed difference is in the range, we can be confident that there is no significant difference between the two groups, as expected. So CTP passed the Sanity Check"
   ]
  },
  {
   "cell_type": "markdown",
   "metadata": {},
   "source": [
    "## Evaluation Metrics\n",
    "\n",
    "Now that the Sanity Check is OK, for each evaluation metric we have a confidence interval to check whether we had a significant and practical difference between the two groups"
   ]
  },
  {
   "cell_type": "markdown",
   "metadata": {},
   "source": [
    "### Gross Conversion \n",
    "(enrollments / clicks)\n",
    "\n",
    "Practical Significant = 1%"
   ]
  },
  {
   "cell_type": "code",
   "execution_count": 43,
   "metadata": {
    "collapsed": true
   },
   "outputs": [],
   "source": [
    "enrolls_a = df_control.dropna()['Enrollments'].sum()\n",
    "enrolls_b = df_exp.dropna()['Enrollments'].sum()\n",
    "\n",
    "clicks_a = df_control.dropna()['Clicks'].sum()\n",
    "clicks_b = df_exp.dropna()['Clicks'].sum()"
   ]
  },
  {
   "cell_type": "code",
   "execution_count": 44,
   "metadata": {},
   "outputs": [
    {
     "name": "stdout",
     "output_type": "stream",
     "text": [
      "Observed -0.0206\n",
      "Significant difference found!\n",
      "\n",
      "alpha 0.03\n",
      "Margin of error 0.0098\n",
      "Lower limit -0.0098\n",
      "Upper limit -0.0108\n"
     ]
    },
    {
     "data": {
      "text/plain": [
       "(-0.009792552862906099, -0.010762321717455467)"
      ]
     },
     "execution_count": 44,
     "metadata": {},
     "output_type": "execute_result"
    }
   ],
   "source": [
    "## bonferroni correction\n",
    "bonferroni_alpha = 0.05 / 2\n",
    "binomial_significant_diff(enrolls_a, \n",
    "                          enrolls_b, \n",
    "                          clicks_a, \n",
    "                          clicks_b, \n",
    "                          bonferroni_alpha)"
   ]
  },
  {
   "cell_type": "markdown",
   "metadata": {},
   "source": [
    "If the observed difference is within the confidence interval we fail to reject the null hypothesis\n",
    "\n",
    "#### Statistical Significance\n",
    "Since zero is not in the confidence interval, so we are 95% confident that the difference between the groups $\\hat{d}$ is greater than zero; \n",
    "\n",
    "#### Practical Significance\n",
    "As the minimum difference of -0.01 is in the confidence interval, we are 95% confident this is also practically significant"
   ]
  },
  {
   "cell_type": "markdown",
   "metadata": {},
   "source": [
    "### Net Conversion \n",
    "(Payments / Clicks)\n",
    "\n",
    "Practical Significant Limit = 0.075%"
   ]
  },
  {
   "cell_type": "code",
   "execution_count": 45,
   "metadata": {
    "collapsed": true
   },
   "outputs": [],
   "source": [
    "payments_a = df_control.dropna()['Payments'].sum()\n",
    "payments_b = df_exp.dropna()['Payments'].sum()\n",
    "\n",
    "clicks_a = df_control.dropna()['Clicks'].sum()\n",
    "clicks_b = df_exp.dropna()['Clicks'].sum()"
   ]
  },
  {
   "cell_type": "code",
   "execution_count": 46,
   "metadata": {},
   "outputs": [
    {
     "name": "stdout",
     "output_type": "stream",
     "text": [
      "Observed -0.0049\n",
      "No significant difference found!\n",
      "\n",
      "alpha 0.03\n",
      "Margin of error 0.0077\n",
      "Lower limit -0.0077\n",
      "Upper limit 0.0028\n"
     ]
    },
    {
     "data": {
      "text/plain": [
       "(-0.00769245906896863, 0.0028187363944244623)"
      ]
     },
     "execution_count": 46,
     "metadata": {},
     "output_type": "execute_result"
    }
   ],
   "source": [
    "## with bonferroni ajustment\n",
    "bonferroni_alpha = 0.05 / 2\n",
    "binomial_significant_diff(payments_a, payments_b, clicks_a, clicks_b, bonferroni_alpha)"
   ]
  },
  {
   "cell_type": "markdown",
   "metadata": {},
   "source": [
    "#### Statistical Significance\n",
    "Since 0 is in the confidence interval, it is not statistically significant as we are 95% confident that zero is likley to happen on the difference between the two groups ($\\hat{d}$) \n",
    "\n",
    "#### Practical Significance\n",
    "d_min=-0.0075 is not in the confidence interval so there is no evidence with 95% confidence that it is practically significant."
   ]
  },
  {
   "cell_type": "markdown",
   "metadata": {},
   "source": [
    "### Considering the significant test results\n",
    "\n",
    "The observed significant and practical differences between the control and experiment group has been confirmed only for the **Gross Conversion** and not for **Net Conversion** metric. \n",
    "\n",
    "in order to support these results we can confirm with a [sign test](https://www.statisticshowto.com/sign-test/) for both metrics and see if they match to the confidence interval results"
   ]
  },
  {
   "cell_type": "markdown",
   "metadata": {},
   "source": [
    "## Sign Test"
   ]
  },
  {
   "cell_type": "markdown",
   "metadata": {},
   "source": [
    "### Gross Conversion"
   ]
  },
  {
   "cell_type": "code",
   "execution_count": 47,
   "metadata": {
    "collapsed": true
   },
   "outputs": [],
   "source": [
    "df_sign_test = df_control[['Enrollments',\n",
    "                           'Clicks',\n",
    "                           'Date']].merge(df_exp[['Enrollments',\n",
    "                                                  'Clicks',\n",
    "                                                  'Date']],\n",
    "                                          on='Date',\n",
    "                                          suffixes=['_cont',\n",
    "                                                    '_exp']).dropna().set_index('Date')"
   ]
  },
  {
   "cell_type": "code",
   "execution_count": 48,
   "metadata": {
    "collapsed": true
   },
   "outputs": [],
   "source": [
    "df_sign_test['Gross_A'] = df_sign_test['Enrollments_cont'] / df_sign_test['Clicks_cont'] \n",
    "df_sign_test['Gross_B'] = df_sign_test['Enrollments_exp'] / df_sign_test['Clicks_exp'] "
   ]
  },
  {
   "cell_type": "code",
   "execution_count": 49,
   "metadata": {
    "collapsed": true
   },
   "outputs": [],
   "source": [
    "df_sign_test['flg_significant'] = df_sign_test['Gross_B'] > df_sign_test['Gross_A']"
   ]
  },
  {
   "cell_type": "code",
   "execution_count": 50,
   "metadata": {},
   "outputs": [
    {
     "name": "stdout",
     "output_type": "stream",
     "text": [
      "Number of success: 4\n",
      "Total number of cases: 23\n"
     ]
    }
   ],
   "source": [
    "print('Number of success: {0}'.format(np.sum(df_sign_test['flg_significant'])))\n",
    "print('Total number of cases: {0}'.format(len(df_sign_test)))"
   ]
  },
  {
   "cell_type": "markdown",
   "metadata": {},
   "source": [
    "Using [this online calculator](https://www.graphpad.com/quickcalcs/binomial1.cfm) we can check whether this number of success cases is likely to happen in a Binomial Distribution\n",
    "\n",
    "> It is also possible to use the `sanity_check_count_diff` method used in the sanity check and see the first test (test for the success rate) like this: `sanity_check_count_diff(#success,#failures,N)` \n",
    "If it pass the sanity check that means there is no significant difference"
   ]
  },
  {
   "cell_type": "code",
   "execution_count": 51,
   "metadata": {},
   "outputs": [
    {
     "name": "stdout",
     "output_type": "stream",
     "text": [
      "Observed 0.1739\n",
      "Sanity check failed!\n",
      "\n",
      "Observed -0.8261\n",
      "Sanity check failed!\n",
      "\n",
      "Lower limit 0.2957\n",
      "Upper limit 0.7043\n"
     ]
    },
    {
     "data": {
      "text/plain": [
       "(0.2956558742240667, 0.7043441257759333)"
      ]
     },
     "execution_count": 51,
     "metadata": {},
     "output_type": "execute_result"
    }
   ],
   "source": [
    "# Using the previous sanity check function\n",
    "success_n = np.sum(df_sign_test['flg_significant'])\n",
    "N = len(df_sign_test['flg_significant'])\n",
    "failures_n = success_n - N\n",
    "sanity_check_count_diff(success_n,failures_n,N)"
   ]
  },
  {
   "cell_type": "code",
   "execution_count": 52,
   "metadata": {},
   "outputs": [
    {
     "name": "stdout",
     "output_type": "stream",
     "text": [
      "One tailed p_value 0.0013\n",
      "Two tailed p_value 0.0026\n"
     ]
    }
   ],
   "source": [
    "## Numbers from Online calculator\n",
    "print('One tailed p_value', 0.0013)\n",
    "print('Two tailed p_value', 0.0026)"
   ]
  },
  {
   "cell_type": "markdown",
   "metadata": {},
   "source": [
    "Since the two-tailed p_value is lower than alpha value of 0.05, according to the sign-test it is likely to have a significant difference for `Gross Conversion` and it matches to the hypothesis test results"
   ]
  },
  {
   "cell_type": "markdown",
   "metadata": {},
   "source": [
    "### Net Conversion"
   ]
  },
  {
   "cell_type": "code",
   "execution_count": 53,
   "metadata": {
    "collapsed": true
   },
   "outputs": [],
   "source": [
    "df_sign_test = df_control[['Payments',\n",
    "                           'Clicks',\n",
    "                           'Date']].merge(df_exp[['Payments',\n",
    "                                                  'Clicks',\n",
    "                                                  'Date']],\n",
    "                                          on='Date',\n",
    "                                          suffixes=['_cont',\n",
    "                                                    '_exp']).dropna().set_index('Date')"
   ]
  },
  {
   "cell_type": "code",
   "execution_count": 54,
   "metadata": {
    "collapsed": true
   },
   "outputs": [],
   "source": [
    "df_sign_test['Net_A'] = df_sign_test['Payments_cont'] / df_sign_test['Clicks_cont'] \n",
    "df_sign_test['Net_B'] = df_sign_test['Payments_exp'] / df_sign_test['Clicks_exp'] "
   ]
  },
  {
   "cell_type": "code",
   "execution_count": 55,
   "metadata": {
    "collapsed": true
   },
   "outputs": [],
   "source": [
    "df_sign_test['flg_significant'] = df_sign_test['Net_B'] > df_sign_test['Net_A']"
   ]
  },
  {
   "cell_type": "code",
   "execution_count": 56,
   "metadata": {},
   "outputs": [
    {
     "name": "stdout",
     "output_type": "stream",
     "text": [
      "Number of success: 10\n",
      "Total number of cases: 23\n"
     ]
    }
   ],
   "source": [
    "print('Number of success: {0}'.format(np.sum(df_sign_test['flg_significant'])))\n",
    "print('Total number of cases: {0}'.format(len(df_sign_test)))"
   ]
  },
  {
   "cell_type": "code",
   "execution_count": 57,
   "metadata": {},
   "outputs": [
    {
     "name": "stdout",
     "output_type": "stream",
     "text": [
      "Observed 0.4348\n",
      "Sanity check passed!\n",
      "\n",
      "Observed -0.5652\n",
      "Sanity check failed!\n",
      "\n",
      "Lower limit 0.2957\n",
      "Upper limit 0.7043\n"
     ]
    },
    {
     "data": {
      "text/plain": [
       "(0.2956558742240667, 0.7043441257759333)"
      ]
     },
     "execution_count": 57,
     "metadata": {},
     "output_type": "execute_result"
    }
   ],
   "source": [
    "# Using the previous sanity check function\n",
    "success_n = np.sum(df_sign_test['flg_significant'])\n",
    "N = len(df_sign_test['flg_significant'])\n",
    "failures_n = success_n - N\n",
    "sanity_check_count_diff(success_n,failures_n,N)"
   ]
  },
  {
   "cell_type": "code",
   "execution_count": 58,
   "metadata": {},
   "outputs": [
    {
     "name": "stdout",
     "output_type": "stream",
     "text": [
      "One tailed p_value 0.3388\n",
      "Two tailed p_value 0.6776\n"
     ]
    }
   ],
   "source": [
    "print('One tailed p_value', 0.3388)\n",
    "print('Two tailed p_value', 0.6776)"
   ]
  },
  {
   "cell_type": "markdown",
   "metadata": {},
   "source": [
    "Since the p_values are really high, there is no evidence that the values are significantly different of each other so we have failed to reject the null hypothesis. This result also matches to our previous confidence interval and hypothesis test for this metric"
   ]
  },
  {
   "cell_type": "markdown",
   "metadata": {},
   "source": [
    "## Final Recommendation\n",
    "\n",
    "Here is the summary of the results evaluated:\n",
    "\n",
    "<table align='left'>\n",
    "<tr><td><b> Metric </b></td><td> <b>Expected</b></td><td><b>Observed</b></td><td><b> Statistical Significant?</b></td><td><b> Practical Significant?</b></td></tr>\n",
    "<tr><td>Gross Conversion</td><td>Lower in the Experimental Group</td><td>Lower in the Experimental Group</td><td>Yes</td><td>Yes</td></tr>\n",
    "<tr><td>Net Conversion</td><td>Lower/No change in the Experimental Group</td><td>No change in the Experimental Group</td><td>No</td><td>No</td></tr>\n",
    "</table>"
   ]
  },
  {
   "cell_type": "markdown",
   "metadata": {},
   "source": [
    "We have a statistical and practical significance for `Gross Conversion` in the expected direction (negative direction) and no evidence of a significant difference in `Net Conversion`. \n",
    "\n",
    "As mentioned before, the `Net Conversion` could present a non-significant difference if this new feature has no effect on engaged users (as they would pay for the course either way) and for further analysis with more data available, it would be good to test the `retention` to support this hypothesis and/or additional experiments restricting non-engaged users (if it's possible)\n",
    "\n",
    "### With the results of this analysis I would recommend launching this change!!\n",
    "\n",
    "With this implemented Udacity could focus on converting students from free-courses to the paid versions in addition to offer premium services (like coaching) only for users that are more likely to pay, as this change could refine the users that pass to the payment step."
   ]
  },
  {
   "cell_type": "markdown",
   "metadata": {},
   "source": [
    "# Conclusion\n",
    "\n",
    "This is a great course that address detailed and useful information about planning, executing and evaluating experiments. Being able to follow these steps properly could make the business/product decisions more accurate moving from \"I think\" to \"I know\". \n",
    "\n",
    "There are many techniques and statistical aspects covered on this course but I think the key point (and maybe the hardest one) is learning how to frame your business questions as A/B tests and be confident about the answers to make an accurate data-driven decision."
   ]
  },
  {
   "cell_type": "markdown",
   "metadata": {},
   "source": [
    "## Follow-Up Experiment: How to Reduce Early Cancellations\n",
    "\n",
    "A good start point could be trying to understand the main reasons for cancellations, using for example a check-box question before users confirm the cancellation with some general reasons like:\n",
    "\n",
    "* Price\n",
    "* Content of Interest\n",
    "* Methodology\n",
    "* Difficulty level\n",
    "* etc...\n",
    "\n",
    "With this data in hands, an exploratory data analysis could be performed, breaking down these data into smaller pieces like subjects of the course, categories, country, user's engagement, reported time availability and so on... so the business would be able to have some intuitions/insights about the cancellations based on real data and the next experiments could be more focused on the main points previously identified in the exploratory analysis. \n",
    "\n",
    "**For example:**\n",
    "\n",
    "If **price** was one of the main reasons, maybe a <u>performance-related campaign</u> with some progressive discounts for good students would help to avoid early cancellations like: *50% discounts if the user finishes the course within 6 months*. \n",
    "\n",
    "Then we could run an experiment to check whether the users who had a progressive discount offer are less likley to cancel it in advance.\n",
    "\n",
    "Therefore with **actions plans** defined, the experiments and metrics will depend on the business cases, but the process might be very similar to the followed throughout this document."
   ]
  },
  {
   "cell_type": "markdown",
   "metadata": {},
   "source": [
    "### References\n",
    "\n",
    "#### Course:\n",
    "\n",
    "* https://www.udacity.com/course/ab-testing--ud257\n",
    "\n",
    "#### Online calculators:\n",
    "\n",
    "* https://www.evanmiller.org/ab-testing/sample-size.html\n",
    "* https://www.graphpad.com/quickcalcs/binomial1.cfm"
   ]
  },
  {
   "cell_type": "markdown",
   "metadata": {},
   "source": [
    "## Appendix 1 - Bayesian Inference\n",
    "\n",
    "After taking this course I started to go deeper into `Bayesian Analysis` to learn how different it is from the `Frequentist approach` (which is the one used throughout this project) and I think it is very interesting approach considering the way we can interpret the results more naturally when we think about the probability concept.\n",
    "\n",
    "I'm not going further on Bayesian aspects as I haven't acquired enough theoretical basis yet to discuss such a delicate subject among statisticians, but I will be using `PyMC3` and the **Posterior Distributions** to compare both of groups A and B outcomes.\n",
    "\n",
    "> Despite of Bayesian approach enables to include in our models some prior information we might have about the data, I would follow with a non-informative prior simulating the frequentist approach we've used"
   ]
  },
  {
   "cell_type": "code",
   "execution_count": 59,
   "metadata": {},
   "outputs": [
    {
     "name": "stderr",
     "output_type": "stream",
     "text": [
      "/Users/leandrocorrea/anaconda3/lib/python3.6/site-packages/h5py/__init__.py:34: FutureWarning: Conversion of the second argument of issubdtype from `float` to `np.floating` is deprecated. In future, it will be treated as `np.float64 == np.dtype(float).type`.\n",
      "  from ._conv import register_converters as _register_converters\n"
     ]
    }
   ],
   "source": [
    "import pymc3 as pm\n",
    "import arviz as az"
   ]
  },
  {
   "cell_type": "markdown",
   "metadata": {
    "collapsed": true
   },
   "source": [
    "### Gross Conversion"
   ]
  },
  {
   "cell_type": "code",
   "execution_count": 60,
   "metadata": {
    "collapsed": true
   },
   "outputs": [],
   "source": [
    "enrolls_a = df_control.dropna()['Enrollments'].sum()\n",
    "enrolls_b = df_exp.dropna()['Enrollments'].sum()\n",
    "\n",
    "clicks_a = df_control.dropna()['Clicks'].sum()\n",
    "clicks_b = df_exp.dropna()['Clicks'].sum()"
   ]
  },
  {
   "cell_type": "code",
   "execution_count": 61,
   "metadata": {},
   "outputs": [
    {
     "name": "stderr",
     "output_type": "stream",
     "text": [
      "Multiprocess sampling (2 chains in 2 jobs)\n",
      "CompoundStep\n",
      ">Metropolis: [p_b]\n",
      ">Metropolis: [p_a]\n",
      "Sampling 2 chains, 0 divergences: 100%|██████████| 41000/41000 [00:14<00:00, 2808.08draws/s]\n",
      "The number of effective samples is smaller than 10% for some parameters.\n"
     ]
    }
   ],
   "source": [
    "with pm.Model() as model:\n",
    "    p_a = pm.Uniform('p_a', lower=0, upper=1)\n",
    "    p_b = pm.Uniform('p_b', lower=0, upper=1)\n",
    "    \n",
    "    delta = pm.Deterministic('delta', p_b - p_a)\n",
    "    \n",
    "    obs_a = pm.Binomial('obs_a', p=p_a, n=clicks_a, observed=enrolls_a)\n",
    "    obs_b = pm.Binomial('obs_b', p=p_b, n=clicks_b, observed=enrolls_b)\n",
    "    \n",
    "    step = pm.Metropolis()\n",
    "    trace = pm.sample(20000, step=step)\n",
    "    burned_trace=trace[1000:]"
   ]
  },
  {
   "cell_type": "code",
   "execution_count": 62,
   "metadata": {},
   "outputs": [],
   "source": [
    "p_A_samples = burned_trace[\"p_a\"]\n",
    "p_B_samples = burned_trace[\"p_b\"]\n",
    "delta_samples = burned_trace[\"delta\"]"
   ]
  },
  {
   "cell_type": "code",
   "execution_count": 63,
   "metadata": {},
   "outputs": [
    {
     "data": {
      "image/png": "[encoded data removed]",
      "text/plain": [
       "<Figure size 864x360 with 1 Axes>"
      ]
     },
     "metadata": {},
     "output_type": "display_data"
    }
   ],
   "source": [
    "plt.figure(figsize=(12,5))\n",
    "plt.hist(p_A_samples, \n",
    "         histtype='stepfilled',\n",
    "         bins=25, \n",
    "         alpha=0.6, \n",
    "         density=True, \n",
    "         color='grey', \n",
    "         label='Group A')\n",
    "plt.hist(p_B_samples, \n",
    "         histtype='stepfilled', \n",
    "         bins=25, \n",
    "         alpha=0.7, \n",
    "         density=True,\n",
    "        label='Group B',)\n",
    "plt.title('Density Distribution of Gross Conversion estimations')\n",
    "plt.legend()\n",
    "plt.show()"
   ]
  },
  {
   "cell_type": "code",
   "execution_count": 64,
   "metadata": {},
   "outputs": [
    {
     "data": {
      "image/png": "[encoded data removed]",
      "text/plain": [
       "<Figure size 864x360 with 1 Axes>"
      ]
     },
     "metadata": {},
     "output_type": "display_data"
    }
   ],
   "source": [
    "plt.figure(figsize=(12,5))\n",
    "plt.hist(delta_samples, \n",
    "         histtype='stepfilled', \n",
    "         bins=25, \n",
    "         alpha=0.85, \n",
    "         density=True,\n",
    "        label='Difference')\n",
    "plt.title('Density Distribution of the difference between groups')\n",
    "plt.show()"
   ]
  },
  {
   "cell_type": "code",
   "execution_count": 65,
   "metadata": {
    "scrolled": true
   },
   "outputs": [
    {
     "data": {
      "text/html": [
       "<div>\n",
       "<style scoped>\n",
       "    .dataframe tbody tr th:only-of-type {\n",
       "        vertical-align: middle;\n",
       "    }\n",
       "\n",
       "    .dataframe tbody tr th {\n",
       "        vertical-align: top;\n",
       "    }\n",
       "\n",
       "    .dataframe thead th {\n",
       "        text-align: right;\n",
       "    }\n",
       "</style>\n",
       "<table border=\"1\" class=\"dataframe\">\n",
       "  <thead>\n",
       "    <tr style=\"text-align: right;\">\n",
       "      <th></th>\n",
       "      <th>mean</th>\n",
       "      <th>sd</th>\n",
       "      <th>hdi_3%</th>\n",
       "      <th>hdi_97%</th>\n",
       "      <th>mcse_mean</th>\n",
       "      <th>mcse_sd</th>\n",
       "      <th>ess_mean</th>\n",
       "      <th>ess_sd</th>\n",
       "      <th>ess_bulk</th>\n",
       "      <th>ess_tail</th>\n",
       "      <th>r_hat</th>\n",
       "    </tr>\n",
       "  </thead>\n",
       "  <tbody>\n",
       "    <tr>\n",
       "      <th>p_a</th>\n",
       "      <td>0.219</td>\n",
       "      <td>0.003</td>\n",
       "      <td>0.213</td>\n",
       "      <td>0.225</td>\n",
       "      <td>0.0</td>\n",
       "      <td>0.0</td>\n",
       "      <td>3238.0</td>\n",
       "      <td>3236.0</td>\n",
       "      <td>3238.0</td>\n",
       "      <td>3040.0</td>\n",
       "      <td>1.0</td>\n",
       "    </tr>\n",
       "    <tr>\n",
       "      <th>p_b</th>\n",
       "      <td>0.198</td>\n",
       "      <td>0.003</td>\n",
       "      <td>0.193</td>\n",
       "      <td>0.204</td>\n",
       "      <td>0.0</td>\n",
       "      <td>0.0</td>\n",
       "      <td>2366.0</td>\n",
       "      <td>2366.0</td>\n",
       "      <td>2349.0</td>\n",
       "      <td>2465.0</td>\n",
       "      <td>1.0</td>\n",
       "    </tr>\n",
       "    <tr>\n",
       "      <th>delta</th>\n",
       "      <td>-0.021</td>\n",
       "      <td>0.004</td>\n",
       "      <td>-0.029</td>\n",
       "      <td>-0.013</td>\n",
       "      <td>0.0</td>\n",
       "      <td>0.0</td>\n",
       "      <td>2838.0</td>\n",
       "      <td>2825.0</td>\n",
       "      <td>2840.0</td>\n",
       "      <td>3855.0</td>\n",
       "      <td>1.0</td>\n",
       "    </tr>\n",
       "  </tbody>\n",
       "</table>\n",
       "</div>"
      ],
      "text/plain": [
       "        mean     sd  hdi_3%  hdi_97%  mcse_mean  mcse_sd  ess_mean  ess_sd  \\\n",
       "p_a    0.219  0.003   0.213    0.225        0.0      0.0    3238.0  3236.0   \n",
       "p_b    0.198  0.003   0.193    0.204        0.0      0.0    2366.0  2366.0   \n",
       "delta -0.021  0.004  -0.029   -0.013        0.0      0.0    2838.0  2825.0   \n",
       "\n",
       "       ess_bulk  ess_tail  r_hat  \n",
       "p_a      3238.0    3040.0    1.0  \n",
       "p_b      2349.0    2465.0    1.0  \n",
       "delta    2840.0    3855.0    1.0  "
      ]
     },
     "execution_count": 65,
     "metadata": {},
     "output_type": "execute_result"
    }
   ],
   "source": [
    "az.summary(burned_trace)"
   ]
  },
  {
   "cell_type": "code",
   "execution_count": 66,
   "metadata": {
    "scrolled": true
   },
   "outputs": [
    {
     "data": {
      "image/png": "[encoded data removed]",
      "text/plain": [
       "<Figure size 1490.4x331.2 with 3 Axes>"
      ]
     },
     "metadata": {},
     "output_type": "display_data"
    }
   ],
   "source": [
    "az.plot_posterior(burned_trace)\n",
    "plt.show()"
   ]
  },
  {
   "cell_type": "markdown",
   "metadata": {},
   "source": [
    "According to the `delta` HDI (Highest Density Interval) we could be 94% **certain** that the difference is between -0.03 and -0.013 and zero difference is very unlikely to happen , therefore it is another evidence from another approach that we've had observed a sifgnificant difference for `Gross Conversion`\n",
    "\n",
    "That is the main difference of interpretation between Frequentist x Bayesian approaches since the latter is showing a sort of an **uncertanity** level , the former is measuring some kind of **repeatability** level (frequency of events)\n",
    "\n",
    "In frequentist approach we are 95% confident that if we run an experiment N times and compute a confidence interval for the difference for each one, the true value will be present in (1-$\\alpha$) of the times (in this case we used alpha = 0.05), so in other words here we are fixing the parameter to be estimated and varying the intervals\n",
    "\n",
    "Unlike the frequetist, In Bayesian approach the interval is fixed and what actually varys is the certainty level about the value it could be assumed, meaning that the probability of delta being in HDI limits is 94%. \n",
    "\n",
    "Realize that we are not talking about repating this experiment N times but the level of `certainity` we have about the values that the true value would be."
   ]
  },
  {
   "cell_type": "markdown",
   "metadata": {
    "collapsed": true
   },
   "source": [
    "### Net Conversion"
   ]
  },
  {
   "cell_type": "code",
   "execution_count": 67,
   "metadata": {
    "collapsed": true
   },
   "outputs": [],
   "source": [
    "payments_a = df_control.dropna()['Payments'].sum()\n",
    "payments_b = df_exp.dropna()['Payments'].sum()\n",
    "\n",
    "clicks_a = df_control.dropna()['Clicks'].sum()\n",
    "clicks_b = df_exp.dropna()['Clicks'].sum()"
   ]
  },
  {
   "cell_type": "code",
   "execution_count": 68,
   "metadata": {},
   "outputs": [
    {
     "name": "stderr",
     "output_type": "stream",
     "text": [
      "Multiprocess sampling (2 chains in 2 jobs)\n",
      "CompoundStep\n",
      ">Metropolis: [p_b]\n",
      ">Metropolis: [p_a]\n",
      "Sampling 2 chains, 0 divergences: 100%|██████████| 41000/41000 [00:10<00:00, 3900.67draws/s]\n",
      "The number of effective samples is smaller than 10% for some parameters.\n"
     ]
    }
   ],
   "source": [
    "with pm.Model() as model:\n",
    "    p_a = pm.Uniform('p_a', lower=0, upper=1)\n",
    "    p_b = pm.Uniform('p_b', lower=0, upper=1)\n",
    "    \n",
    "    delta = pm.Deterministic('delta', p_b - p_a)\n",
    "    \n",
    "    obs_a = pm.Binomial('obs_a', p=p_a, n=clicks_a, observed=payments_a)\n",
    "    obs_b = pm.Binomial('obs_b', p=p_b, n=clicks_b, observed=payments_b)\n",
    "    \n",
    "    step = pm.Metropolis()\n",
    "    trace = pm.sample(20000, step=step)\n",
    "    burned_trace=trace[1000:]"
   ]
  },
  {
   "cell_type": "code",
   "execution_count": 69,
   "metadata": {
    "collapsed": true
   },
   "outputs": [],
   "source": [
    "p_A_samples = burned_trace[\"p_a\"]\n",
    "p_B_samples = burned_trace[\"p_b\"]\n",
    "delta_samples = burned_trace[\"delta\"]"
   ]
  },
  {
   "cell_type": "code",
   "execution_count": 70,
   "metadata": {},
   "outputs": [
    {
     "data": {
      "image/png": "[encoded data removed]",
      "text/plain": [
       "<Figure size 864x360 with 1 Axes>"
      ]
     },
     "metadata": {},
     "output_type": "display_data"
    }
   ],
   "source": [
    "plt.figure(figsize=(12,5))\n",
    "plt.hist(p_A_samples, \n",
    "         histtype='stepfilled',\n",
    "         bins=25, \n",
    "         alpha=0.6, \n",
    "         density=True, \n",
    "         color='grey', \n",
    "         label='Group A')\n",
    "plt.hist(p_B_samples, \n",
    "         histtype='stepfilled', \n",
    "         bins=25, \n",
    "         alpha=0.4, \n",
    "         density=True,\n",
    "        label='Group B')\n",
    "plt.title('Density Distribution of Net Conversion estimations')\n",
    "plt.legend()\n",
    "plt.show()"
   ]
  },
  {
   "cell_type": "code",
   "execution_count": 71,
   "metadata": {},
   "outputs": [
    {
     "data": {
      "image/png": "[encoded data removed]",
      "text/plain": [
       "<Figure size 864x360 with 1 Axes>"
      ]
     },
     "metadata": {},
     "output_type": "display_data"
    }
   ],
   "source": [
    "plt.figure(figsize=(12,5))\n",
    "plt.hist(delta_samples, \n",
    "         histtype='stepfilled', \n",
    "         bins=25, \n",
    "         alpha=0.85, \n",
    "         density=True,\n",
    "        label='Difference')\n",
    "plt.title('Density Distribution of the difference between groups')\n",
    "plt.show()"
   ]
  },
  {
   "cell_type": "code",
   "execution_count": 72,
   "metadata": {
    "scrolled": true
   },
   "outputs": [
    {
     "data": {
      "text/html": [
       "<div>\n",
       "<style scoped>\n",
       "    .dataframe tbody tr th:only-of-type {\n",
       "        vertical-align: middle;\n",
       "    }\n",
       "\n",
       "    .dataframe tbody tr th {\n",
       "        vertical-align: top;\n",
       "    }\n",
       "\n",
       "    .dataframe thead th {\n",
       "        text-align: right;\n",
       "    }\n",
       "</style>\n",
       "<table border=\"1\" class=\"dataframe\">\n",
       "  <thead>\n",
       "    <tr style=\"text-align: right;\">\n",
       "      <th></th>\n",
       "      <th>mean</th>\n",
       "      <th>sd</th>\n",
       "      <th>hdi_3%</th>\n",
       "      <th>hdi_97%</th>\n",
       "      <th>mcse_mean</th>\n",
       "      <th>mcse_sd</th>\n",
       "      <th>ess_mean</th>\n",
       "      <th>ess_sd</th>\n",
       "      <th>ess_bulk</th>\n",
       "      <th>ess_tail</th>\n",
       "      <th>r_hat</th>\n",
       "    </tr>\n",
       "  </thead>\n",
       "  <tbody>\n",
       "    <tr>\n",
       "      <th>p_a</th>\n",
       "      <td>0.118</td>\n",
       "      <td>0.002</td>\n",
       "      <td>0.113</td>\n",
       "      <td>0.122</td>\n",
       "      <td>0.0</td>\n",
       "      <td>0.0</td>\n",
       "      <td>3025.0</td>\n",
       "      <td>3025.0</td>\n",
       "      <td>3010.0</td>\n",
       "      <td>3157.0</td>\n",
       "      <td>1.0</td>\n",
       "    </tr>\n",
       "    <tr>\n",
       "      <th>p_b</th>\n",
       "      <td>0.113</td>\n",
       "      <td>0.002</td>\n",
       "      <td>0.108</td>\n",
       "      <td>0.117</td>\n",
       "      <td>0.0</td>\n",
       "      <td>0.0</td>\n",
       "      <td>3661.0</td>\n",
       "      <td>3661.0</td>\n",
       "      <td>3671.0</td>\n",
       "      <td>2719.0</td>\n",
       "      <td>1.0</td>\n",
       "    </tr>\n",
       "    <tr>\n",
       "      <th>delta</th>\n",
       "      <td>-0.005</td>\n",
       "      <td>0.003</td>\n",
       "      <td>-0.011</td>\n",
       "      <td>0.001</td>\n",
       "      <td>0.0</td>\n",
       "      <td>0.0</td>\n",
       "      <td>3259.0</td>\n",
       "      <td>3152.0</td>\n",
       "      <td>3274.0</td>\n",
       "      <td>4287.0</td>\n",
       "      <td>1.0</td>\n",
       "    </tr>\n",
       "  </tbody>\n",
       "</table>\n",
       "</div>"
      ],
      "text/plain": [
       "        mean     sd  hdi_3%  hdi_97%  mcse_mean  mcse_sd  ess_mean  ess_sd  \\\n",
       "p_a    0.118  0.002   0.113    0.122        0.0      0.0    3025.0  3025.0   \n",
       "p_b    0.113  0.002   0.108    0.117        0.0      0.0    3661.0  3661.0   \n",
       "delta -0.005  0.003  -0.011    0.001        0.0      0.0    3259.0  3152.0   \n",
       "\n",
       "       ess_bulk  ess_tail  r_hat  \n",
       "p_a      3010.0    3157.0    1.0  \n",
       "p_b      3671.0    2719.0    1.0  \n",
       "delta    3274.0    4287.0    1.0  "
      ]
     },
     "execution_count": 72,
     "metadata": {},
     "output_type": "execute_result"
    }
   ],
   "source": [
    "az.summary(burned_trace)"
   ]
  },
  {
   "cell_type": "code",
   "execution_count": 73,
   "metadata": {
    "scrolled": true
   },
   "outputs": [
    {
     "data": {
      "image/png": "[encoded data removed]",
      "text/plain": [
       "<Figure size 1490.4x331.2 with 3 Axes>"
      ]
     },
     "metadata": {},
     "output_type": "display_data"
    }
   ],
   "source": [
    "az.plot_posterior(burned_trace)\n",
    "plt.show()"
   ]
  },
  {
   "cell_type": "markdown",
   "metadata": {},
   "source": [
    "In the frequentist approach we've seen that `Net Conversion` has no evidence to conclude a significant difference so as in the Bayesian. Despite it seems to have **some** difference (especially when we look at the distributions side by side) it is not strong enough to say it is significantly different, as the HDI contains zero in its range. \n",
    "\n",
    "> It is like to say: \"It might have some difference in a positive side or negative side or even no difference at all, meaning that B could be better, worse or equal to A\"\n",
    "\n",
    "The above sentence is not exactly transmitting confidence to the listeners right? Therefore we wouldn't be able to safely conclude that in fact there is some difference, so like in the frequentist approach with the confidence interval, the HDI is also failling to reject the hypothesis for this metric."
   ]
  },
  {
   "cell_type": "code",
   "execution_count": null,
   "metadata": {
    "collapsed": true
   },
   "outputs": [],
   "source": []
  }
 ],
 "metadata": {
  "kernelspec": {
   "display_name": "Python 3.6.3 64-bit ('base': conda)",
   "language": "python",
   "name": "python36364bitbasecondaf5e6edb7ea6e4d8699aca9c8d468c2b7"
  },
  "language_info": {
   "codemirror_mode": {
    "name": "ipython",
    "version": 3
   },
   "file_extension": ".py",
   "mimetype": "text/x-python",
   "name": "python",
   "nbconvert_exporter": "python",
   "pygments_lexer": "ipython3",
   "version": "3.6.10"
  }
 },
 "nbformat": 4,
 "nbformat_minor": 2
}
